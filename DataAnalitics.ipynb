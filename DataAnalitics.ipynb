{
  "nbformat": 4,
  "nbformat_minor": 0,
  "metadata": {
    "colab": {
      "provenance": [],
      "gpuType": "T4"
    },
    "kernelspec": {
      "name": "python3",
      "display_name": "Python 3"
    },
    "language_info": {
      "name": "python"
    },
    "accelerator": "GPU"
  },
  "cells": [
    {
      "cell_type": "markdown",
      "source": [
        "# Load Dataset"
      ],
      "metadata": {
        "id": "4PEaFKxJ-cTw"
      }
    },
    {
      "cell_type": "code",
      "source": [
        "# 📚 Import Libraries\n",
        "import pandas as pd\n",
        "import numpy as np\n",
        "import matplotlib.pyplot as plt\n",
        "import seaborn as sns\n",
        "\n",
        "from sklearn.model_selection import train_test_split\n",
        "from sklearn.preprocessing import LabelEncoder, StandardScaler\n",
        "from sklearn.metrics import classification_report, confusion_matrix, accuracy_score\n",
        "from sklearn.ensemble import RandomForestClassifier\n",
        "from sklearn.linear_model import LogisticRegression\n",
        "from sklearn.svm import SVC\n"
      ],
      "metadata": {
        "id": "uZGpGEgaFFFG"
      },
      "execution_count": null,
      "outputs": []
    },
    {
      "cell_type": "code",
      "source": [
        "from google.colab import files\n",
        "files.upload()"
      ],
      "metadata": {
        "colab": {
          "base_uri": "https://localhost:8080/",
          "height": 90
        },
        "id": "kkEvSLn0MkMX",
        "outputId": "4d1cfc29-49a1-4b44-c49e-c23e2af6e473"
      },
      "execution_count": null,
      "outputs": [
        {
          "output_type": "display_data",
          "data": {
            "text/plain": [
              "<IPython.core.display.HTML object>"
            ],
            "text/html": [
              "\n",
              "     <input type=\"file\" id=\"files-bcc74045-70e4-4d53-b033-d5d1016998cb\" name=\"files[]\" multiple disabled\n",
              "        style=\"border:none\" />\n",
              "     <output id=\"result-bcc74045-70e4-4d53-b033-d5d1016998cb\">\n",
              "      Upload widget is only available when the cell has been executed in the\n",
              "      current browser session. Please rerun this cell to enable.\n",
              "      </output>\n",
              "      <script>// Copyright 2017 Google LLC\n",
              "//\n",
              "// Licensed under the Apache License, Version 2.0 (the \"License\");\n",
              "// you may not use this file except in compliance with the License.\n",
              "// You may obtain a copy of the License at\n",
              "//\n",
              "//      http://www.apache.org/licenses/LICENSE-2.0\n",
              "//\n",
              "// Unless required by applicable law or agreed to in writing, software\n",
              "// distributed under the License is distributed on an \"AS IS\" BASIS,\n",
              "// WITHOUT WARRANTIES OR CONDITIONS OF ANY KIND, either express or implied.\n",
              "// See the License for the specific language governing permissions and\n",
              "// limitations under the License.\n",
              "\n",
              "/**\n",
              " * @fileoverview Helpers for google.colab Python module.\n",
              " */\n",
              "(function(scope) {\n",
              "function span(text, styleAttributes = {}) {\n",
              "  const element = document.createElement('span');\n",
              "  element.textContent = text;\n",
              "  for (const key of Object.keys(styleAttributes)) {\n",
              "    element.style[key] = styleAttributes[key];\n",
              "  }\n",
              "  return element;\n",
              "}\n",
              "\n",
              "// Max number of bytes which will be uploaded at a time.\n",
              "const MAX_PAYLOAD_SIZE = 100 * 1024;\n",
              "\n",
              "function _uploadFiles(inputId, outputId) {\n",
              "  const steps = uploadFilesStep(inputId, outputId);\n",
              "  const outputElement = document.getElementById(outputId);\n",
              "  // Cache steps on the outputElement to make it available for the next call\n",
              "  // to uploadFilesContinue from Python.\n",
              "  outputElement.steps = steps;\n",
              "\n",
              "  return _uploadFilesContinue(outputId);\n",
              "}\n",
              "\n",
              "// This is roughly an async generator (not supported in the browser yet),\n",
              "// where there are multiple asynchronous steps and the Python side is going\n",
              "// to poll for completion of each step.\n",
              "// This uses a Promise to block the python side on completion of each step,\n",
              "// then passes the result of the previous step as the input to the next step.\n",
              "function _uploadFilesContinue(outputId) {\n",
              "  const outputElement = document.getElementById(outputId);\n",
              "  const steps = outputElement.steps;\n",
              "\n",
              "  const next = steps.next(outputElement.lastPromiseValue);\n",
              "  return Promise.resolve(next.value.promise).then((value) => {\n",
              "    // Cache the last promise value to make it available to the next\n",
              "    // step of the generator.\n",
              "    outputElement.lastPromiseValue = value;\n",
              "    return next.value.response;\n",
              "  });\n",
              "}\n",
              "\n",
              "/**\n",
              " * Generator function which is called between each async step of the upload\n",
              " * process.\n",
              " * @param {string} inputId Element ID of the input file picker element.\n",
              " * @param {string} outputId Element ID of the output display.\n",
              " * @return {!Iterable<!Object>} Iterable of next steps.\n",
              " */\n",
              "function* uploadFilesStep(inputId, outputId) {\n",
              "  const inputElement = document.getElementById(inputId);\n",
              "  inputElement.disabled = false;\n",
              "\n",
              "  const outputElement = document.getElementById(outputId);\n",
              "  outputElement.innerHTML = '';\n",
              "\n",
              "  const pickedPromise = new Promise((resolve) => {\n",
              "    inputElement.addEventListener('change', (e) => {\n",
              "      resolve(e.target.files);\n",
              "    });\n",
              "  });\n",
              "\n",
              "  const cancel = document.createElement('button');\n",
              "  inputElement.parentElement.appendChild(cancel);\n",
              "  cancel.textContent = 'Cancel upload';\n",
              "  const cancelPromise = new Promise((resolve) => {\n",
              "    cancel.onclick = () => {\n",
              "      resolve(null);\n",
              "    };\n",
              "  });\n",
              "\n",
              "  // Wait for the user to pick the files.\n",
              "  const files = yield {\n",
              "    promise: Promise.race([pickedPromise, cancelPromise]),\n",
              "    response: {\n",
              "      action: 'starting',\n",
              "    }\n",
              "  };\n",
              "\n",
              "  cancel.remove();\n",
              "\n",
              "  // Disable the input element since further picks are not allowed.\n",
              "  inputElement.disabled = true;\n",
              "\n",
              "  if (!files) {\n",
              "    return {\n",
              "      response: {\n",
              "        action: 'complete',\n",
              "      }\n",
              "    };\n",
              "  }\n",
              "\n",
              "  for (const file of files) {\n",
              "    const li = document.createElement('li');\n",
              "    li.append(span(file.name, {fontWeight: 'bold'}));\n",
              "    li.append(span(\n",
              "        `(${file.type || 'n/a'}) - ${file.size} bytes, ` +\n",
              "        `last modified: ${\n",
              "            file.lastModifiedDate ? file.lastModifiedDate.toLocaleDateString() :\n",
              "                                    'n/a'} - `));\n",
              "    const percent = span('0% done');\n",
              "    li.appendChild(percent);\n",
              "\n",
              "    outputElement.appendChild(li);\n",
              "\n",
              "    const fileDataPromise = new Promise((resolve) => {\n",
              "      const reader = new FileReader();\n",
              "      reader.onload = (e) => {\n",
              "        resolve(e.target.result);\n",
              "      };\n",
              "      reader.readAsArrayBuffer(file);\n",
              "    });\n",
              "    // Wait for the data to be ready.\n",
              "    let fileData = yield {\n",
              "      promise: fileDataPromise,\n",
              "      response: {\n",
              "        action: 'continue',\n",
              "      }\n",
              "    };\n",
              "\n",
              "    // Use a chunked sending to avoid message size limits. See b/62115660.\n",
              "    let position = 0;\n",
              "    do {\n",
              "      const length = Math.min(fileData.byteLength - position, MAX_PAYLOAD_SIZE);\n",
              "      const chunk = new Uint8Array(fileData, position, length);\n",
              "      position += length;\n",
              "\n",
              "      const base64 = btoa(String.fromCharCode.apply(null, chunk));\n",
              "      yield {\n",
              "        response: {\n",
              "          action: 'append',\n",
              "          file: file.name,\n",
              "          data: base64,\n",
              "        },\n",
              "      };\n",
              "\n",
              "      let percentDone = fileData.byteLength === 0 ?\n",
              "          100 :\n",
              "          Math.round((position / fileData.byteLength) * 100);\n",
              "      percent.textContent = `${percentDone}% done`;\n",
              "\n",
              "    } while (position < fileData.byteLength);\n",
              "  }\n",
              "\n",
              "  // All done.\n",
              "  yield {\n",
              "    response: {\n",
              "      action: 'complete',\n",
              "    }\n",
              "  };\n",
              "}\n",
              "\n",
              "scope.google = scope.google || {};\n",
              "scope.google.colab = scope.google.colab || {};\n",
              "scope.google.colab._files = {\n",
              "  _uploadFiles,\n",
              "  _uploadFilesContinue,\n",
              "};\n",
              "})(self);\n",
              "</script> "
            ]
          },
          "metadata": {}
        },
        {
          "output_type": "stream",
          "name": "stdout",
          "text": [
            "Saving kaggle.json to kaggle.json\n"
          ]
        },
        {
          "output_type": "execute_result",
          "data": {
            "text/plain": [
              "{'kaggle.json': b'{\"username\":\"sonir99\",\"key\":\"9f90ee1a53063d301f7118ba036d6037\"}'}"
            ]
          },
          "metadata": {},
          "execution_count": 2
        }
      ]
    },
    {
      "cell_type": "code",
      "source": [
        "# Move the API key to the correct location\n",
        "!mkdir -p ~/.kaggle\n",
        "!cp kaggle.json ~/.kaggle/\n",
        "!chmod 600 ~/.kaggle/kaggle.json"
      ],
      "metadata": {
        "id": "-Wp_tQEQMqaQ"
      },
      "execution_count": null,
      "outputs": []
    },
    {
      "cell_type": "code",
      "source": [
        "# 📥 Download the dataset (Edge-IIoTset Cyber Security Dataset)\n",
        "!kaggle datasets download -d mohamedamineferrag/edgeiiotset-cyber-security-dataset-of-iot-iiot\n",
        "\n",
        "# 📦 Unzip the downloaded file\n",
        "!unzip edgeiiotset-cyber-security-dataset-of-iot-iiot.zip"
      ],
      "metadata": {
        "colab": {
          "base_uri": "https://localhost:8080/"
        },
        "id": "grYXVW3LMtsE",
        "outputId": "3c9963ac-caea-4467-d703-956d033216f9"
      },
      "execution_count": null,
      "outputs": [
        {
          "output_type": "stream",
          "name": "stdout",
          "text": [
            "Dataset URL: https://www.kaggle.com/datasets/mohamedamineferrag/edgeiiotset-cyber-security-dataset-of-iot-iiot\n",
            "License(s): CC-BY-NC-SA-4.0\n",
            "Archive:  edgeiiotset-cyber-security-dataset-of-iot-iiot.zip\n",
            "  inflating: Edge-IIoTset dataset/Attack traffic/Backdoor_attack.csv  \n",
            "  inflating: Edge-IIoTset dataset/Attack traffic/Backdoor_attack.pcap  \n",
            "  inflating: Edge-IIoTset dataset/Attack traffic/DDoS HTTP Flood Attacks.pcap  \n",
            "  inflating: Edge-IIoTset dataset/Attack traffic/DDoS ICMP Flood Attacks.pcap  \n",
            "  inflating: Edge-IIoTset dataset/Attack traffic/DDoS TCP SYN Flood Attacks.pcap  \n",
            "  inflating: Edge-IIoTset dataset/Attack traffic/DDoS UDP Flood Attacks.pcap  \n",
            "  inflating: Edge-IIoTset dataset/Attack traffic/DDoS_HTTP_Flood_attack.csv  \n",
            "  inflating: Edge-IIoTset dataset/Attack traffic/DDoS_ICMP_Flood_attack.csv  \n",
            "  inflating: Edge-IIoTset dataset/Attack traffic/DDoS_TCP_SYN_Flood_attack.csv  \n",
            "  inflating: Edge-IIoTset dataset/Attack traffic/DDoS_UDP_Flood_attack.csv  \n",
            "  inflating: Edge-IIoTset dataset/Attack traffic/MITM (ARP spoofing + DNS) Attack.pcap  \n",
            "  inflating: Edge-IIoTset dataset/Attack traffic/MITM_attack.csv  \n",
            "  inflating: Edge-IIoTset dataset/Attack traffic/OS Fingerprinting attack.pcap  \n",
            "  inflating: Edge-IIoTset dataset/Attack traffic/OS_Fingerprinting_attack.csv  \n",
            "  inflating: Edge-IIoTset dataset/Attack traffic/Password attacks.pcap  \n",
            "  inflating: Edge-IIoTset dataset/Attack traffic/Password_attack.csv  \n",
            "  inflating: Edge-IIoTset dataset/Attack traffic/Port Scanning attack.pcap  \n",
            "  inflating: Edge-IIoTset dataset/Attack traffic/Port_Scanning_attack.csv  \n",
            "  inflating: Edge-IIoTset dataset/Attack traffic/Ransomware attack.pcap  \n",
            "  inflating: Edge-IIoTset dataset/Attack traffic/Ransomware_attack.csv  \n",
            "  inflating: Edge-IIoTset dataset/Attack traffic/SQL injection attack.pcap  \n",
            "  inflating: Edge-IIoTset dataset/Attack traffic/SQL_injection_attack.csv  \n",
            "  inflating: Edge-IIoTset dataset/Attack traffic/Uploading attack.pcap  \n",
            "  inflating: Edge-IIoTset dataset/Attack traffic/Uploading_attack.csv  \n",
            "  inflating: Edge-IIoTset dataset/Attack traffic/Vulnerability scanner attack.pcap  \n",
            "  inflating: Edge-IIoTset dataset/Attack traffic/Vulnerability_scanner_attack.csv  \n",
            "  inflating: Edge-IIoTset dataset/Attack traffic/XSS attacks.pcap  \n",
            "  inflating: Edge-IIoTset dataset/Attack traffic/XSS_attack.csv  \n",
            "  inflating: Edge-IIoTset dataset/Normal traffic/Distance/Distance.csv  \n",
            "  inflating: Edge-IIoTset dataset/Normal traffic/Distance/Distance.pcap  \n",
            "  inflating: Edge-IIoTset dataset/Normal traffic/Flame_Sensor/Flame_Sensor.csv  \n",
            "  inflating: Edge-IIoTset dataset/Normal traffic/Flame_Sensor/Flame_Sensor.pcap  \n",
            "  inflating: Edge-IIoTset dataset/Normal traffic/Heart_Rate/Heart_Rate.csv  \n",
            "  inflating: Edge-IIoTset dataset/Normal traffic/Heart_Rate/Heart_Rate.pcap  \n",
            "  inflating: Edge-IIoTset dataset/Normal traffic/IR_Receiver/IR_Receiver.csv  \n",
            "  inflating: Edge-IIoTset dataset/Normal traffic/IR_Receiver/IR_Receiver.pcap  \n",
            "  inflating: Edge-IIoTset dataset/Normal traffic/Modbus/Modbus.csv  \n",
            "  inflating: Edge-IIoTset dataset/Normal traffic/Modbus/Modbus.pcap  \n",
            "  inflating: Edge-IIoTset dataset/Normal traffic/Soil_Moisture/Soil_Moisture.csv  \n",
            "  inflating: Edge-IIoTset dataset/Normal traffic/Soil_Moisture/Soil_Moisture.pcap  \n",
            "  inflating: Edge-IIoTset dataset/Normal traffic/Sound_Sensor/Sound_Sensor.csv  \n",
            "  inflating: Edge-IIoTset dataset/Normal traffic/Sound_Sensor/Sound_Sensor.pcap  \n",
            "  inflating: Edge-IIoTset dataset/Normal traffic/Temperature_and_Humidity/Temperature_and_Humidity.csv  \n",
            "  inflating: Edge-IIoTset dataset/Normal traffic/Temperature_and_Humidity/Temperature_and_Humidity.pcap  \n",
            "  inflating: Edge-IIoTset dataset/Normal traffic/Water_Level/Water_Level.csv  \n",
            "  inflating: Edge-IIoTset dataset/Normal traffic/Water_Level/Water_Level.pcap  \n",
            "  inflating: Edge-IIoTset dataset/Normal traffic/phValue/phValue.csv  \n",
            "  inflating: Edge-IIoTset dataset/Normal traffic/phValue/phValue.pcap  \n",
            "  inflating: Edge-IIoTset dataset/Selected dataset for ML and DL/DNN-EdgeIIoT-dataset.csv  \n",
            "  inflating: Edge-IIoTset dataset/Selected dataset for ML and DL/ML-EdgeIIoT-dataset.csv  \n",
            "  inflating: Edge_IIoTset__DatasetFL.pdf  \n",
            "  inflating: Readme.txt              \n"
          ]
        }
      ]
    },
    {
      "cell_type": "code",
      "source": [
        "# Load the preprocessed ML dataset\n",
        "data = pd.read_csv('Edge-IIoTset dataset/Selected dataset for ML and DL/ML-EdgeIIoT-dataset.csv')\n",
        "\n",
        "# Check shape and preview\n",
        "print(\"Shape of dataset:\", df.shape)\n",
        "data.head()"
      ],
      "metadata": {
        "colab": {
          "base_uri": "https://localhost:8080/",
          "height": 307
        },
        "id": "f_qbg7WgMz7K",
        "outputId": "820cc4b9-ef0b-4deb-c10a-2c123abdc9eb"
      },
      "execution_count": null,
      "outputs": [
        {
          "output_type": "stream",
          "name": "stdout",
          "text": [
            "Shape of dataset: (157800, 63)\n"
          ]
        },
        {
          "output_type": "stream",
          "name": "stderr",
          "text": [
            "<ipython-input-7-a7ceb5857e1a>:2: DtypeWarning: Columns (3,6,11,13,14,15,16,17,31,32,34,39,45,51,54,55) have mixed types. Specify dtype option on import or set low_memory=False.\n",
            "  data = pd.read_csv('Edge-IIoTset dataset/Selected dataset for ML and DL/ML-EdgeIIoT-dataset.csv')\n"
          ]
        },
        {
          "output_type": "execute_result",
          "data": {
            "text/plain": [
              "  frame.time    ip.src_host ip.dst_host arp.dst.proto_ipv4  arp.opcode  \\\n",
              "0        6.0  192.168.0.152         0.0                0.0         0.0   \n",
              "1        6.0  192.168.0.101         0.0                0.0         0.0   \n",
              "2        6.0  192.168.0.152         0.0                0.0         0.0   \n",
              "3        6.0  192.168.0.101         0.0                0.0         0.0   \n",
              "4        6.0  192.168.0.152         0.0                0.0         0.0   \n",
              "\n",
              "   arp.hw.size arp.src.proto_ipv4  icmp.checksum  icmp.seq_le  \\\n",
              "0          0.0                0.0            0.0          0.0   \n",
              "1          0.0                0.0            0.0          0.0   \n",
              "2          0.0                0.0            0.0          0.0   \n",
              "3          0.0                0.0            0.0          0.0   \n",
              "4          0.0                0.0            0.0          0.0   \n",
              "\n",
              "   icmp.transmit_timestamp  ...  mqtt.proto_len mqtt.protoname  mqtt.topic  \\\n",
              "0                      0.0  ...             0.0            0.0         0.0   \n",
              "1                      0.0  ...             0.0            0.0         0.0   \n",
              "2                      0.0  ...             0.0            0.0         0.0   \n",
              "3                      0.0  ...             0.0            0.0         0.0   \n",
              "4                      0.0  ...             0.0            0.0         0.0   \n",
              "\n",
              "  mqtt.topic_len mqtt.ver mbtcp.len mbtcp.trans_id mbtcp.unit_id  \\\n",
              "0            0.0      0.0       0.0            0.0           0.0   \n",
              "1            0.0      0.0       0.0            0.0           0.0   \n",
              "2            0.0      0.0       0.0            0.0           0.0   \n",
              "3            0.0      0.0       0.0            0.0           0.0   \n",
              "4            0.0      0.0       0.0            0.0           0.0   \n",
              "\n",
              "   Attack_label  Attack_type  \n",
              "0             1         MITM  \n",
              "1             1         MITM  \n",
              "2             1         MITM  \n",
              "3             1         MITM  \n",
              "4             1         MITM  \n",
              "\n",
              "[5 rows x 63 columns]"
            ],
            "text/html": [
              "\n",
              "  <div id=\"df-46c1b2e2-5885-4350-b160-73a15676e879\" class=\"colab-df-container\">\n",
              "    <div>\n",
              "<style scoped>\n",
              "    .dataframe tbody tr th:only-of-type {\n",
              "        vertical-align: middle;\n",
              "    }\n",
              "\n",
              "    .dataframe tbody tr th {\n",
              "        vertical-align: top;\n",
              "    }\n",
              "\n",
              "    .dataframe thead th {\n",
              "        text-align: right;\n",
              "    }\n",
              "</style>\n",
              "<table border=\"1\" class=\"dataframe\">\n",
              "  <thead>\n",
              "    <tr style=\"text-align: right;\">\n",
              "      <th></th>\n",
              "      <th>frame.time</th>\n",
              "      <th>ip.src_host</th>\n",
              "      <th>ip.dst_host</th>\n",
              "      <th>arp.dst.proto_ipv4</th>\n",
              "      <th>arp.opcode</th>\n",
              "      <th>arp.hw.size</th>\n",
              "      <th>arp.src.proto_ipv4</th>\n",
              "      <th>icmp.checksum</th>\n",
              "      <th>icmp.seq_le</th>\n",
              "      <th>icmp.transmit_timestamp</th>\n",
              "      <th>...</th>\n",
              "      <th>mqtt.proto_len</th>\n",
              "      <th>mqtt.protoname</th>\n",
              "      <th>mqtt.topic</th>\n",
              "      <th>mqtt.topic_len</th>\n",
              "      <th>mqtt.ver</th>\n",
              "      <th>mbtcp.len</th>\n",
              "      <th>mbtcp.trans_id</th>\n",
              "      <th>mbtcp.unit_id</th>\n",
              "      <th>Attack_label</th>\n",
              "      <th>Attack_type</th>\n",
              "    </tr>\n",
              "  </thead>\n",
              "  <tbody>\n",
              "    <tr>\n",
              "      <th>0</th>\n",
              "      <td>6.0</td>\n",
              "      <td>192.168.0.152</td>\n",
              "      <td>0.0</td>\n",
              "      <td>0.0</td>\n",
              "      <td>0.0</td>\n",
              "      <td>0.0</td>\n",
              "      <td>0.0</td>\n",
              "      <td>0.0</td>\n",
              "      <td>0.0</td>\n",
              "      <td>0.0</td>\n",
              "      <td>...</td>\n",
              "      <td>0.0</td>\n",
              "      <td>0.0</td>\n",
              "      <td>0.0</td>\n",
              "      <td>0.0</td>\n",
              "      <td>0.0</td>\n",
              "      <td>0.0</td>\n",
              "      <td>0.0</td>\n",
              "      <td>0.0</td>\n",
              "      <td>1</td>\n",
              "      <td>MITM</td>\n",
              "    </tr>\n",
              "    <tr>\n",
              "      <th>1</th>\n",
              "      <td>6.0</td>\n",
              "      <td>192.168.0.101</td>\n",
              "      <td>0.0</td>\n",
              "      <td>0.0</td>\n",
              "      <td>0.0</td>\n",
              "      <td>0.0</td>\n",
              "      <td>0.0</td>\n",
              "      <td>0.0</td>\n",
              "      <td>0.0</td>\n",
              "      <td>0.0</td>\n",
              "      <td>...</td>\n",
              "      <td>0.0</td>\n",
              "      <td>0.0</td>\n",
              "      <td>0.0</td>\n",
              "      <td>0.0</td>\n",
              "      <td>0.0</td>\n",
              "      <td>0.0</td>\n",
              "      <td>0.0</td>\n",
              "      <td>0.0</td>\n",
              "      <td>1</td>\n",
              "      <td>MITM</td>\n",
              "    </tr>\n",
              "    <tr>\n",
              "      <th>2</th>\n",
              "      <td>6.0</td>\n",
              "      <td>192.168.0.152</td>\n",
              "      <td>0.0</td>\n",
              "      <td>0.0</td>\n",
              "      <td>0.0</td>\n",
              "      <td>0.0</td>\n",
              "      <td>0.0</td>\n",
              "      <td>0.0</td>\n",
              "      <td>0.0</td>\n",
              "      <td>0.0</td>\n",
              "      <td>...</td>\n",
              "      <td>0.0</td>\n",
              "      <td>0.0</td>\n",
              "      <td>0.0</td>\n",
              "      <td>0.0</td>\n",
              "      <td>0.0</td>\n",
              "      <td>0.0</td>\n",
              "      <td>0.0</td>\n",
              "      <td>0.0</td>\n",
              "      <td>1</td>\n",
              "      <td>MITM</td>\n",
              "    </tr>\n",
              "    <tr>\n",
              "      <th>3</th>\n",
              "      <td>6.0</td>\n",
              "      <td>192.168.0.101</td>\n",
              "      <td>0.0</td>\n",
              "      <td>0.0</td>\n",
              "      <td>0.0</td>\n",
              "      <td>0.0</td>\n",
              "      <td>0.0</td>\n",
              "      <td>0.0</td>\n",
              "      <td>0.0</td>\n",
              "      <td>0.0</td>\n",
              "      <td>...</td>\n",
              "      <td>0.0</td>\n",
              "      <td>0.0</td>\n",
              "      <td>0.0</td>\n",
              "      <td>0.0</td>\n",
              "      <td>0.0</td>\n",
              "      <td>0.0</td>\n",
              "      <td>0.0</td>\n",
              "      <td>0.0</td>\n",
              "      <td>1</td>\n",
              "      <td>MITM</td>\n",
              "    </tr>\n",
              "    <tr>\n",
              "      <th>4</th>\n",
              "      <td>6.0</td>\n",
              "      <td>192.168.0.152</td>\n",
              "      <td>0.0</td>\n",
              "      <td>0.0</td>\n",
              "      <td>0.0</td>\n",
              "      <td>0.0</td>\n",
              "      <td>0.0</td>\n",
              "      <td>0.0</td>\n",
              "      <td>0.0</td>\n",
              "      <td>0.0</td>\n",
              "      <td>...</td>\n",
              "      <td>0.0</td>\n",
              "      <td>0.0</td>\n",
              "      <td>0.0</td>\n",
              "      <td>0.0</td>\n",
              "      <td>0.0</td>\n",
              "      <td>0.0</td>\n",
              "      <td>0.0</td>\n",
              "      <td>0.0</td>\n",
              "      <td>1</td>\n",
              "      <td>MITM</td>\n",
              "    </tr>\n",
              "  </tbody>\n",
              "</table>\n",
              "<p>5 rows × 63 columns</p>\n",
              "</div>\n",
              "    <div class=\"colab-df-buttons\">\n",
              "\n",
              "  <div class=\"colab-df-container\">\n",
              "    <button class=\"colab-df-convert\" onclick=\"convertToInteractive('df-46c1b2e2-5885-4350-b160-73a15676e879')\"\n",
              "            title=\"Convert this dataframe to an interactive table.\"\n",
              "            style=\"display:none;\">\n",
              "\n",
              "  <svg xmlns=\"http://www.w3.org/2000/svg\" height=\"24px\" viewBox=\"0 -960 960 960\">\n",
              "    <path d=\"M120-120v-720h720v720H120Zm60-500h600v-160H180v160Zm220 220h160v-160H400v160Zm0 220h160v-160H400v160ZM180-400h160v-160H180v160Zm440 0h160v-160H620v160ZM180-180h160v-160H180v160Zm440 0h160v-160H620v160Z\"/>\n",
              "  </svg>\n",
              "    </button>\n",
              "\n",
              "  <style>\n",
              "    .colab-df-container {\n",
              "      display:flex;\n",
              "      gap: 12px;\n",
              "    }\n",
              "\n",
              "    .colab-df-convert {\n",
              "      background-color: #E8F0FE;\n",
              "      border: none;\n",
              "      border-radius: 50%;\n",
              "      cursor: pointer;\n",
              "      display: none;\n",
              "      fill: #1967D2;\n",
              "      height: 32px;\n",
              "      padding: 0 0 0 0;\n",
              "      width: 32px;\n",
              "    }\n",
              "\n",
              "    .colab-df-convert:hover {\n",
              "      background-color: #E2EBFA;\n",
              "      box-shadow: 0px 1px 2px rgba(60, 64, 67, 0.3), 0px 1px 3px 1px rgba(60, 64, 67, 0.15);\n",
              "      fill: #174EA6;\n",
              "    }\n",
              "\n",
              "    .colab-df-buttons div {\n",
              "      margin-bottom: 4px;\n",
              "    }\n",
              "\n",
              "    [theme=dark] .colab-df-convert {\n",
              "      background-color: #3B4455;\n",
              "      fill: #D2E3FC;\n",
              "    }\n",
              "\n",
              "    [theme=dark] .colab-df-convert:hover {\n",
              "      background-color: #434B5C;\n",
              "      box-shadow: 0px 1px 3px 1px rgba(0, 0, 0, 0.15);\n",
              "      filter: drop-shadow(0px 1px 2px rgba(0, 0, 0, 0.3));\n",
              "      fill: #FFFFFF;\n",
              "    }\n",
              "  </style>\n",
              "\n",
              "    <script>\n",
              "      const buttonEl =\n",
              "        document.querySelector('#df-46c1b2e2-5885-4350-b160-73a15676e879 button.colab-df-convert');\n",
              "      buttonEl.style.display =\n",
              "        google.colab.kernel.accessAllowed ? 'block' : 'none';\n",
              "\n",
              "      async function convertToInteractive(key) {\n",
              "        const element = document.querySelector('#df-46c1b2e2-5885-4350-b160-73a15676e879');\n",
              "        const dataTable =\n",
              "          await google.colab.kernel.invokeFunction('convertToInteractive',\n",
              "                                                    [key], {});\n",
              "        if (!dataTable) return;\n",
              "\n",
              "        const docLinkHtml = 'Like what you see? Visit the ' +\n",
              "          '<a target=\"_blank\" href=https://colab.research.google.com/notebooks/data_table.ipynb>data table notebook</a>'\n",
              "          + ' to learn more about interactive tables.';\n",
              "        element.innerHTML = '';\n",
              "        dataTable['output_type'] = 'display_data';\n",
              "        await google.colab.output.renderOutput(dataTable, element);\n",
              "        const docLink = document.createElement('div');\n",
              "        docLink.innerHTML = docLinkHtml;\n",
              "        element.appendChild(docLink);\n",
              "      }\n",
              "    </script>\n",
              "  </div>\n",
              "\n",
              "\n",
              "    <div id=\"df-9dea7571-632a-462b-bc27-5580f1f2a673\">\n",
              "      <button class=\"colab-df-quickchart\" onclick=\"quickchart('df-9dea7571-632a-462b-bc27-5580f1f2a673')\"\n",
              "                title=\"Suggest charts\"\n",
              "                style=\"display:none;\">\n",
              "\n",
              "<svg xmlns=\"http://www.w3.org/2000/svg\" height=\"24px\"viewBox=\"0 0 24 24\"\n",
              "     width=\"24px\">\n",
              "    <g>\n",
              "        <path d=\"M19 3H5c-1.1 0-2 .9-2 2v14c0 1.1.9 2 2 2h14c1.1 0 2-.9 2-2V5c0-1.1-.9-2-2-2zM9 17H7v-7h2v7zm4 0h-2V7h2v10zm4 0h-2v-4h2v4z\"/>\n",
              "    </g>\n",
              "</svg>\n",
              "      </button>\n",
              "\n",
              "<style>\n",
              "  .colab-df-quickchart {\n",
              "      --bg-color: #E8F0FE;\n",
              "      --fill-color: #1967D2;\n",
              "      --hover-bg-color: #E2EBFA;\n",
              "      --hover-fill-color: #174EA6;\n",
              "      --disabled-fill-color: #AAA;\n",
              "      --disabled-bg-color: #DDD;\n",
              "  }\n",
              "\n",
              "  [theme=dark] .colab-df-quickchart {\n",
              "      --bg-color: #3B4455;\n",
              "      --fill-color: #D2E3FC;\n",
              "      --hover-bg-color: #434B5C;\n",
              "      --hover-fill-color: #FFFFFF;\n",
              "      --disabled-bg-color: #3B4455;\n",
              "      --disabled-fill-color: #666;\n",
              "  }\n",
              "\n",
              "  .colab-df-quickchart {\n",
              "    background-color: var(--bg-color);\n",
              "    border: none;\n",
              "    border-radius: 50%;\n",
              "    cursor: pointer;\n",
              "    display: none;\n",
              "    fill: var(--fill-color);\n",
              "    height: 32px;\n",
              "    padding: 0;\n",
              "    width: 32px;\n",
              "  }\n",
              "\n",
              "  .colab-df-quickchart:hover {\n",
              "    background-color: var(--hover-bg-color);\n",
              "    box-shadow: 0 1px 2px rgba(60, 64, 67, 0.3), 0 1px 3px 1px rgba(60, 64, 67, 0.15);\n",
              "    fill: var(--button-hover-fill-color);\n",
              "  }\n",
              "\n",
              "  .colab-df-quickchart-complete:disabled,\n",
              "  .colab-df-quickchart-complete:disabled:hover {\n",
              "    background-color: var(--disabled-bg-color);\n",
              "    fill: var(--disabled-fill-color);\n",
              "    box-shadow: none;\n",
              "  }\n",
              "\n",
              "  .colab-df-spinner {\n",
              "    border: 2px solid var(--fill-color);\n",
              "    border-color: transparent;\n",
              "    border-bottom-color: var(--fill-color);\n",
              "    animation:\n",
              "      spin 1s steps(1) infinite;\n",
              "  }\n",
              "\n",
              "  @keyframes spin {\n",
              "    0% {\n",
              "      border-color: transparent;\n",
              "      border-bottom-color: var(--fill-color);\n",
              "      border-left-color: var(--fill-color);\n",
              "    }\n",
              "    20% {\n",
              "      border-color: transparent;\n",
              "      border-left-color: var(--fill-color);\n",
              "      border-top-color: var(--fill-color);\n",
              "    }\n",
              "    30% {\n",
              "      border-color: transparent;\n",
              "      border-left-color: var(--fill-color);\n",
              "      border-top-color: var(--fill-color);\n",
              "      border-right-color: var(--fill-color);\n",
              "    }\n",
              "    40% {\n",
              "      border-color: transparent;\n",
              "      border-right-color: var(--fill-color);\n",
              "      border-top-color: var(--fill-color);\n",
              "    }\n",
              "    60% {\n",
              "      border-color: transparent;\n",
              "      border-right-color: var(--fill-color);\n",
              "    }\n",
              "    80% {\n",
              "      border-color: transparent;\n",
              "      border-right-color: var(--fill-color);\n",
              "      border-bottom-color: var(--fill-color);\n",
              "    }\n",
              "    90% {\n",
              "      border-color: transparent;\n",
              "      border-bottom-color: var(--fill-color);\n",
              "    }\n",
              "  }\n",
              "</style>\n",
              "\n",
              "      <script>\n",
              "        async function quickchart(key) {\n",
              "          const quickchartButtonEl =\n",
              "            document.querySelector('#' + key + ' button');\n",
              "          quickchartButtonEl.disabled = true;  // To prevent multiple clicks.\n",
              "          quickchartButtonEl.classList.add('colab-df-spinner');\n",
              "          try {\n",
              "            const charts = await google.colab.kernel.invokeFunction(\n",
              "                'suggestCharts', [key], {});\n",
              "          } catch (error) {\n",
              "            console.error('Error during call to suggestCharts:', error);\n",
              "          }\n",
              "          quickchartButtonEl.classList.remove('colab-df-spinner');\n",
              "          quickchartButtonEl.classList.add('colab-df-quickchart-complete');\n",
              "        }\n",
              "        (() => {\n",
              "          let quickchartButtonEl =\n",
              "            document.querySelector('#df-9dea7571-632a-462b-bc27-5580f1f2a673 button');\n",
              "          quickchartButtonEl.style.display =\n",
              "            google.colab.kernel.accessAllowed ? 'block' : 'none';\n",
              "        })();\n",
              "      </script>\n",
              "    </div>\n",
              "\n",
              "    </div>\n",
              "  </div>\n"
            ],
            "application/vnd.google.colaboratory.intrinsic+json": {
              "type": "dataframe",
              "variable_name": "data"
            }
          },
          "metadata": {},
          "execution_count": 7
        }
      ]
    },
    {
      "cell_type": "code",
      "source": [
        "# Plot attack label distribution\n",
        "sns.countplot(x='Attack_label', data=df)\n",
        "plt.title('Distribution of Attack vs Normal')\n",
        "plt.show()\n",
        "\n",
        "# Plot top attack types\n",
        "top_attacks = df['Attack_type'].value_counts().head(10)\n",
        "top_attacks.plot(kind='barh', title='Top 10 Attack Types')\n",
        "plt.xlabel(\"Count\")\n",
        "plt.show()"
      ],
      "metadata": {
        "colab": {
          "base_uri": "https://localhost:8080/",
          "height": 927
        },
        "id": "Ok5xbsLxQu1M",
        "outputId": "399b9e60-94a7-43bb-e1f3-5ea8d11386d0"
      },
      "execution_count": null,
      "outputs": [
        {
          "output_type": "display_data",
          "data": {
            "text/plain": [
              "<Figure size 640x480 with 1 Axes>"
            ],
            "image/png": "[encoded data removed]"
          },
          "metadata": {}
        },
        {
          "output_type": "display_data",
          "data": {
            "text/plain": [
              "<Figure size 640x480 with 1 Axes>"
            ],
            "image/png": "[encoded data removed]"
          },
          "metadata": {}
        }
      ]
    },
    {
      "cell_type": "markdown",
      "source": [
        "# Data Preprocessing"
      ],
      "metadata": {
        "id": "TVPgGd5I-Qcj"
      }
    },
    {
      "cell_type": "code",
      "source": [
        "# Check for missing values\n",
        "print(\"\\nMissing values in each column:\\n\", data.isnull().sum())"
      ],
      "metadata": {
        "colab": {
          "base_uri": "https://localhost:8080/"
        },
        "id": "yIsB0nMD-QCz",
        "outputId": "e9df435c-1404-42bd-c4e0-54cb200a2cb2"
      },
      "execution_count": null,
      "outputs": [
        {
          "output_type": "stream",
          "name": "stdout",
          "text": [
            "\n",
            "Missing values in each column:\n",
            " frame.time            0\n",
            "ip.src_host           0\n",
            "ip.dst_host           0\n",
            "arp.dst.proto_ipv4    0\n",
            "arp.opcode            0\n",
            "                     ..\n",
            "mbtcp.len             0\n",
            "mbtcp.trans_id        0\n",
            "mbtcp.unit_id         0\n",
            "Attack_label          0\n",
            "Attack_type           0\n",
            "Length: 63, dtype: int64\n"
          ]
        }
      ]
    },
    {
      "cell_type": "code",
      "source": [
        "# Drop rows with missing values (or you can fillna if needed)\n",
        "data.dropna(inplace=True)\n",
        "print(\"\\nShape after dropping missing values:\", data.shape)"
      ],
      "metadata": {
        "colab": {
          "base_uri": "https://localhost:8080/"
        },
        "id": "R3XlP3UB_ID6",
        "outputId": "6e3ab69f-307d-4cb1-c9b5-721e201e6d1a"
      },
      "execution_count": null,
      "outputs": [
        {
          "output_type": "stream",
          "name": "stdout",
          "text": [
            "\n",
            "Shape after dropping missing values: (157800, 63)\n"
          ]
        }
      ]
    },
    {
      "cell_type": "markdown",
      "source": [
        "# Encode Labels"
      ],
      "metadata": {
        "id": "ozfSrKCcA6BH"
      }
    },
    {
      "cell_type": "code",
      "source": [
        "# 🏷️ Encode the Labels (if not already encoded)\n",
        "if data['Attack_type'].dtype == 'object':\n",
        "    le = LabelEncoder()\n",
        "    data['Attack_type'] = le.fit_transform(data['Attack_type'])"
      ],
      "metadata": {
        "id": "V84oeYJTBWwK"
      },
      "execution_count": null,
      "outputs": []
    },
    {
      "cell_type": "markdown",
      "source": [
        "# Feature Selection"
      ],
      "metadata": {
        "id": "nEhNkZaWCTRW"
      }
    },
    {
      "cell_type": "code",
      "source": [
        "# Separate features and target\n",
        "X = data.drop('Attack_type', axis=1)\n",
        "y = data['Attack_type']\n",
        "\n",
        "# Keep only numeric columns in X\n",
        "X = X.select_dtypes(include=[np.number])\n",
        "\n",
        "print(\"\\nFeatures after dropping non-numeric columns:\", X.columns.tolist())\n"
      ],
      "metadata": {
        "id": "xFRgxezWA1Zp",
        "colab": {
          "base_uri": "https://localhost:8080/"
        },
        "outputId": "ffa3bdfc-3557-4be4-8189-c1accdb11c36"
      },
      "execution_count": null,
      "outputs": [
        {
          "output_type": "stream",
          "name": "stdout",
          "text": [
            "\n",
            "Features after dropping non-numeric columns: ['arp.opcode', 'arp.hw.size', 'icmp.checksum', 'icmp.seq_le', 'icmp.transmit_timestamp', 'icmp.unused', 'http.content_length', 'http.response', 'http.tls_port', 'tcp.ack', 'tcp.ack_raw', 'tcp.checksum', 'tcp.connection.fin', 'tcp.connection.rst', 'tcp.connection.syn', 'tcp.connection.synack', 'tcp.dstport', 'tcp.flags', 'tcp.flags.ack', 'tcp.len', 'tcp.seq', 'udp.port', 'udp.stream', 'udp.time_delta', 'dns.qry.name', 'dns.qry.qu', 'dns.qry.type', 'dns.retransmission', 'dns.retransmit_request', 'dns.retransmit_request_in', 'mqtt.conflag.cleansess', 'mqtt.conflags', 'mqtt.hdrflags', 'mqtt.len', 'mqtt.msg_decoded_as', 'mqtt.msgtype', 'mqtt.proto_len', 'mqtt.topic_len', 'mqtt.ver', 'mbtcp.len', 'mbtcp.trans_id', 'mbtcp.unit_id', 'Attack_label']\n"
          ]
        }
      ]
    },
    {
      "cell_type": "code",
      "source": [
        "# 📏 Feature Scaling\n",
        "# Scale only numeric features\n",
        "scaler = StandardScaler()\n",
        "X_scaled = scaler.fit_transform(X)"
      ],
      "metadata": {
        "id": "LnwHeOutGF35"
      },
      "execution_count": null,
      "outputs": []
    },
    {
      "cell_type": "markdown",
      "source": [
        "# Train-Test Split"
      ],
      "metadata": {
        "id": "t4O2DSpKHnuq"
      }
    },
    {
      "cell_type": "code",
      "source": [
        "X_train, X_test, y_train, y_test = train_test_split(X_scaled, y, test_size=0.3, random_state=42)"
      ],
      "metadata": {
        "id": "o11aFOSkHk-w"
      },
      "execution_count": null,
      "outputs": []
    },
    {
      "cell_type": "markdown",
      "source": [
        "# Model Training and Evaluation"
      ],
      "metadata": {
        "id": "USQh_gKaCaWa"
      }
    },
    {
      "cell_type": "code",
      "source": [
        "#RandomForestClassifier\n",
        "rf = RandomForestClassifier(random_state=42)\n",
        "rf.fit(X_train, y_train)\n",
        "y_pred_rf = rf.predict(X_test)\n",
        "\n",
        "print(\"\\nRandom Forest Results:\")\n",
        "print(classification_report(y_test, y_pred_rf))\n",
        "print(\"Accuracy:\", accuracy_score(y_test, y_pred_rf))"
      ],
      "metadata": {
        "colab": {
          "base_uri": "https://localhost:8080/"
        },
        "id": "YN1sV6PXCgin",
        "outputId": "91dfc37e-2267-40a5-c4a9-9dd256462801"
      },
      "execution_count": null,
      "outputs": [
        {
          "output_type": "stream",
          "name": "stdout",
          "text": [
            "\n",
            "Random Forest Results:\n",
            "              precision    recall  f1-score   support\n",
            "\n",
            "           0       0.98      0.95      0.96      2982\n",
            "           1       0.80      0.78      0.79      3173\n",
            "           2       1.00      1.00      1.00      4258\n",
            "           3       1.00      1.00      1.00      2996\n",
            "           4       1.00      1.00      1.00      4349\n",
            "           5       1.00      0.77      0.87       300\n",
            "           6       0.41      1.00      0.58       386\n",
            "           7       1.00      1.00      1.00      7380\n",
            "           8       0.81      0.82      0.81      3018\n",
            "           9       0.92      0.96      0.94      3051\n",
            "          10       0.97      0.86      0.91      3171\n",
            "          11       0.80      0.83      0.81      3116\n",
            "          12       0.88      0.85      0.87      3067\n",
            "          13       0.98      0.96      0.97      3022\n",
            "          14       0.84      0.82      0.83      3071\n",
            "\n",
            "    accuracy                           0.92     47340\n",
            "   macro avg       0.89      0.91      0.89     47340\n",
            "weighted avg       0.93      0.92      0.92     47340\n",
            "\n",
            "Accuracy: 0.9214406421630756\n"
          ]
        }
      ]
    },
    {
      "cell_type": "code",
      "source": [
        "#LogisticRegression\n",
        "lr = LogisticRegression(max_iter=1000, random_state=42)\n",
        "lr.fit(X_train, y_train)\n",
        "y_pred_lr = lr.predict(X_test)\n",
        "\n",
        "print(\"\\nLogistic Regression Results:\")\n",
        "print(classification_report(y_test, y_pred_lr))\n",
        "print(\"Accuracy:\", accuracy_score(y_test, y_pred_lr))"
      ],
      "metadata": {
        "colab": {
          "base_uri": "https://localhost:8080/"
        },
        "id": "qswPacviHxOB",
        "outputId": "29629057-2ade-414a-fd5b-90b76cb304d4"
      },
      "execution_count": null,
      "outputs": [
        {
          "output_type": "stream",
          "name": "stdout",
          "text": [
            "\n",
            "Logistic Regression Results:\n",
            "              precision    recall  f1-score   support\n",
            "\n",
            "           0       0.45      0.74      0.56      2982\n",
            "           1       0.41      0.52      0.46      3173\n",
            "           2       1.00      0.99      1.00      4258\n",
            "           3       0.88      0.90      0.89      2996\n",
            "           4       1.00      0.99      0.99      4349\n",
            "           5       0.80      0.55      0.65       300\n",
            "           6       0.39      1.00      0.56       386\n",
            "           7       1.00      1.00      1.00      7380\n",
            "           8       0.36      0.17      0.23      3018\n",
            "           9       0.83      0.95      0.88      3051\n",
            "          10       0.33      0.37      0.35      3171\n",
            "          11       0.27      0.45      0.34      3116\n",
            "          12       0.50      0.07      0.13      3067\n",
            "          13       0.79      0.78      0.79      3022\n",
            "          14       0.24      0.09      0.13      3071\n",
            "\n",
            "    accuracy                           0.67     47340\n",
            "   macro avg       0.62      0.64      0.60     47340\n",
            "weighted avg       0.67      0.67      0.65     47340\n",
            "\n",
            "Accuracy: 0.6733629066328686\n"
          ]
        }
      ]
    },
    {
      "cell_type": "code",
      "source": [
        "#Support Vector Machine\n",
        "svm = SVC(random_state=42)\n",
        "svm.fit(X_train, y_train)\n",
        "y_pred_svm = svm.predict(X_test)\n",
        "\n",
        "print(\"\\nSVM Results:\")\n",
        "print(classification_report(y_test, y_pred_svm))\n",
        "print(\"Accuracy:\", accuracy_score(y_test, y_pred_svm))"
      ],
      "metadata": {
        "colab": {
          "base_uri": "https://localhost:8080/"
        },
        "id": "-iSvJ827Hz3B",
        "outputId": "70a7996d-ad78-413f-c72b-9860f3b4af15"
      },
      "execution_count": null,
      "outputs": [
        {
          "metadata": {
            "tags": null
          },
          "name": "stdout",
          "output_type": "stream",
          "text": [
            "\n",
            "SVM Results:\n",
            "              precision    recall  f1-score   support\n",
            "\n",
            "           0       0.54      0.71      0.61      2982\n",
            "           1       0.39      0.59      0.47      3173\n",
            "           2       0.97      1.00      0.98      4258\n",
            "           3       0.83      0.89      0.86      2996\n",
            "           4       1.00      0.97      0.98      4349\n",
            "           5       0.96      0.31      0.46       300\n",
            "           6       0.36      1.00      0.53       386\n",
            "           7       1.00      1.00      1.00      7380\n",
            "           8       0.68      0.11      0.19      3018\n",
            "           9       0.84      0.90      0.87      3051\n",
            "          10       0.45      0.50      0.48      3171\n",
            "          11       0.40      0.44      0.42      3116\n",
            "          12       0.65      0.09      0.16      3067\n",
            "          13       0.87      0.76      0.81      3022\n",
            "          14       0.36      0.52      0.42      3071\n",
            "\n",
            "    accuracy                           0.70     47340\n",
            "   macro avg       0.69      0.65      0.62     47340\n",
            "weighted avg       0.73      0.70      0.68     47340\n",
            "\n",
            "Accuracy: 0.7016476552598225\n"
          ]
        }
      ]
    },
    {
      "cell_type": "markdown",
      "source": [
        "# Visualizations"
      ],
      "metadata": {
        "id": "Hfa6ZTJMCsK4"
      }
    },
    {
      "cell_type": "code",
      "source": [
        "plt.figure(figsize=(10,7))\n",
        "sns.heatmap(confusion_matrix(y_test, y_pred_rf), annot=True, fmt=\"d\", cmap=\"Blues\")\n",
        "plt.title('Confusion Matrix - Random Forest')\n",
        "plt.xlabel('Predicted')\n",
        "plt.ylabel('Actual')\n",
        "plt.show()\n"
      ],
      "metadata": {
        "colab": {
          "base_uri": "https://localhost:8080/",
          "height": 641
        },
        "id": "4s8p-B-UCyyz",
        "outputId": "e52269b2-26e6-4d6e-fdbb-08a43980f7bf"
      },
      "execution_count": null,
      "outputs": [
        {
          "output_type": "display_data",
          "data": {
            "text/plain": [
              "<Figure size 1000x700 with 2 Axes>"
            ],
            "image/png": "[encoded data removed]"
          },
          "metadata": {}
        }
      ]
    },
    {
      "cell_type": "code",
      "source": [],
      "metadata": {
        "id": "v6I80lq-Qc80"
      },
      "execution_count": null,
      "outputs": []
    }
  ]
}